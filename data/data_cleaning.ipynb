{
 "cells": [
  {
   "cell_type": "markdown",
   "metadata": {},
   "source": [
    "### Sprint #2: Data\n",
    "\n",
    "DS4003 | Spring 2024\n",
    "\n",
    "The objective of this sprint is to locate suitable data for the term project and then clean and prepare this data using the pandas library in Python. This will ensure the data is ready for subsequent analysis and visualization steps. Additionally you will list ideas for UI components and possible data visualizations to build.\n",
    "\n",
    "**Instructions**\n",
    "\n",
    "1. Research and find a suitable dataset for your term project. The dataset should be rich enough to allow for interesting analysis and visualizations.\n",
    "\n",
    "2. Once you have located your dataset, download it and import it into a Python environment in Jupyter Notebook.\n",
    "\n",
    "3. The first section of your notebook should include why you chose this data and data provenance.\n",
    "\n",
    "4. Use the pandas library to clean and prepare your data. This may include dealing with missing values, converting data types, or restructuring the data as necessary. By the end your data should be ‘tidy’ data. Links to an external site.\n",
    "\n",
    "5. After your data is cleaned, complete an exploratory analysis of your data. Depending on your data, this may include things like:\n",
    "\n",
    "- How many observations do you have?\n",
    "- How many unique categories are there for categorical variables?\n",
    "- How much missing data is there per observation or per variable?\n",
    "- What are the distributions of continuous variables? Are there outliers?\n",
    "\n",
    "6. At the end of your data exploration, include a data dictionary.\n",
    "\n",
    "7. Finally, brainstorm a list of UI components that you could include in your dashboard. Consider what would be most useful or interesting for users.\n",
    "\n",
    "8. Also brainstorm a list 3-6 possible data visualizations (e.g., a scatter plot of sepal length vs sepal width - this could be filtered on species using a multi-select dropdown)\n",
    "\n",
    "**Deliverables**\n",
    "\n",
    "In a GitHub Repo:\n",
    "\n",
    "- Your cleaned and prepared dataset in a csv file called data.csv\n",
    "- In a single Jupyter Notebook:\n",
    "   - Your exploratory analysis, including code and commentary\n",
    "   - A list of potential UI components for your dashboard\n",
    "   - A list of potential data visualizations for your dashboard"
   ]
  },
  {
   "cell_type": "markdown",
   "metadata": {},
   "source": [
    "### Data Provenance and Explanation"
   ]
  },
  {
   "cell_type": "markdown",
   "metadata": {},
   "source": [
    "My interactive dashboard is meant to be a way to track carbon dioxide (CO2) by country by its primary ways of being released into the atmosphere via fossil fuels over a period of time. Carbon dioxide is a greenhouse that traps heat in the earth's atmosphere contributing to global warming and climate change. With carbon dioxide concentrations inceasing rapidly and the temperature alarmingly rising, I think that it is important to understand who and what the most significant contributers are. The data selected is was published by researchers from the Center for International Climate Research (CICERO) using the most recent 2023 release of the Global Carbon Project (GCP) fossil emissions dataset."
   ]
  },
  {
   "cell_type": "markdown",
   "metadata": {},
   "source": [
    "### Data Wrangling/EDA"
   ]
  },
  {
   "cell_type": "code",
   "execution_count": 1,
   "metadata": {},
   "outputs": [],
   "source": [
    "# install dependencies\n",
    "import pandas as pd\n",
    "import numpy as np"
   ]
  },
  {
   "cell_type": "code",
   "execution_count": 2,
   "metadata": {},
   "outputs": [],
   "source": [
    "# load the recipes dataset \n",
    "df = pd.read_csv('globalco2emissions.csv')"
   ]
  },
  {
   "cell_type": "code",
   "execution_count": 3,
   "metadata": {},
   "outputs": [
    {
     "name": "stdout",
     "output_type": "stream",
     "text": [
      "<class 'pandas.core.frame.DataFrame'>\n",
      "RangeIndex: 61425 entries, 0 to 61424\n",
      "Data columns (total 12 columns):\n",
      " #   Column              Non-Null Count  Dtype  \n",
      "---  ------              --------------  -----  \n",
      " 0   Country             61425 non-null  object \n",
      " 1   ISO 3166-1 alpha-3  60333 non-null  object \n",
      " 2   UN M49              61425 non-null  int64  \n",
      " 3   Year                61425 non-null  int64  \n",
      " 4   Total               23172 non-null  float64\n",
      " 5   Coal                22955 non-null  float64\n",
      " 6   Oil                 21770 non-null  float64\n",
      " 7   Gas                 21742 non-null  float64\n",
      " 8   Cement              23541 non-null  float64\n",
      " 9   Flaring             21651 non-null  float64\n",
      " 10  Other               1813 non-null   float64\n",
      " 11  Per Capita          17543 non-null  float64\n",
      "dtypes: float64(8), int64(2), object(2)\n",
      "memory usage: 5.6+ MB\n"
     ]
    }
   ],
   "source": [
    "# display basic info\n",
    "df.info()"
   ]
  },
  {
   "cell_type": "code",
   "execution_count": 4,
   "metadata": {},
   "outputs": [
    {
     "name": "stdout",
     "output_type": "stream",
     "text": [
      "338305\n"
     ]
    }
   ],
   "source": [
    "# count the total number of missing values in the entire dataset\n",
    "total_missing = df.isna().sum().sum()\n",
    "print(total_missing)"
   ]
  },
  {
   "cell_type": "code",
   "execution_count": 5,
   "metadata": {},
   "outputs": [
    {
     "data": {
      "text/html": [
       "<div>\n",
       "<style scoped>\n",
       "    .dataframe tbody tr th:only-of-type {\n",
       "        vertical-align: middle;\n",
       "    }\n",
       "\n",
       "    .dataframe tbody tr th {\n",
       "        vertical-align: top;\n",
       "    }\n",
       "\n",
       "    .dataframe thead th {\n",
       "        text-align: right;\n",
       "    }\n",
       "</style>\n",
       "<table border=\"1\" class=\"dataframe\">\n",
       "  <thead>\n",
       "    <tr style=\"text-align: right;\">\n",
       "      <th></th>\n",
       "      <th>Country</th>\n",
       "      <th>ISO 3166-1 alpha-3</th>\n",
       "      <th>UN M49</th>\n",
       "      <th>Year</th>\n",
       "      <th>Total</th>\n",
       "      <th>Coal</th>\n",
       "      <th>Oil</th>\n",
       "      <th>Gas</th>\n",
       "      <th>Cement</th>\n",
       "      <th>Flaring</th>\n",
       "      <th>Other</th>\n",
       "      <th>Per Capita</th>\n",
       "    </tr>\n",
       "  </thead>\n",
       "  <tbody>\n",
       "    <tr>\n",
       "      <th>0</th>\n",
       "      <td>Afghanistan</td>\n",
       "      <td>AFG</td>\n",
       "      <td>4</td>\n",
       "      <td>1750</td>\n",
       "      <td>NaN</td>\n",
       "      <td>NaN</td>\n",
       "      <td>NaN</td>\n",
       "      <td>NaN</td>\n",
       "      <td>0.0</td>\n",
       "      <td>NaN</td>\n",
       "      <td>NaN</td>\n",
       "      <td>NaN</td>\n",
       "    </tr>\n",
       "    <tr>\n",
       "      <th>1</th>\n",
       "      <td>Afghanistan</td>\n",
       "      <td>AFG</td>\n",
       "      <td>4</td>\n",
       "      <td>1751</td>\n",
       "      <td>NaN</td>\n",
       "      <td>NaN</td>\n",
       "      <td>NaN</td>\n",
       "      <td>NaN</td>\n",
       "      <td>0.0</td>\n",
       "      <td>NaN</td>\n",
       "      <td>NaN</td>\n",
       "      <td>NaN</td>\n",
       "    </tr>\n",
       "    <tr>\n",
       "      <th>2</th>\n",
       "      <td>Afghanistan</td>\n",
       "      <td>AFG</td>\n",
       "      <td>4</td>\n",
       "      <td>1752</td>\n",
       "      <td>NaN</td>\n",
       "      <td>NaN</td>\n",
       "      <td>NaN</td>\n",
       "      <td>NaN</td>\n",
       "      <td>0.0</td>\n",
       "      <td>NaN</td>\n",
       "      <td>NaN</td>\n",
       "      <td>NaN</td>\n",
       "    </tr>\n",
       "    <tr>\n",
       "      <th>3</th>\n",
       "      <td>Afghanistan</td>\n",
       "      <td>AFG</td>\n",
       "      <td>4</td>\n",
       "      <td>1753</td>\n",
       "      <td>NaN</td>\n",
       "      <td>NaN</td>\n",
       "      <td>NaN</td>\n",
       "      <td>NaN</td>\n",
       "      <td>0.0</td>\n",
       "      <td>NaN</td>\n",
       "      <td>NaN</td>\n",
       "      <td>NaN</td>\n",
       "    </tr>\n",
       "    <tr>\n",
       "      <th>4</th>\n",
       "      <td>Afghanistan</td>\n",
       "      <td>AFG</td>\n",
       "      <td>4</td>\n",
       "      <td>1754</td>\n",
       "      <td>NaN</td>\n",
       "      <td>NaN</td>\n",
       "      <td>NaN</td>\n",
       "      <td>NaN</td>\n",
       "      <td>0.0</td>\n",
       "      <td>NaN</td>\n",
       "      <td>NaN</td>\n",
       "      <td>NaN</td>\n",
       "    </tr>\n",
       "  </tbody>\n",
       "</table>\n",
       "</div>"
      ],
      "text/plain": [
       "       Country ISO 3166-1 alpha-3  UN M49  Year  Total  Coal  Oil  Gas  \\\n",
       "0  Afghanistan                AFG       4  1750    NaN   NaN  NaN  NaN   \n",
       "1  Afghanistan                AFG       4  1751    NaN   NaN  NaN  NaN   \n",
       "2  Afghanistan                AFG       4  1752    NaN   NaN  NaN  NaN   \n",
       "3  Afghanistan                AFG       4  1753    NaN   NaN  NaN  NaN   \n",
       "4  Afghanistan                AFG       4  1754    NaN   NaN  NaN  NaN   \n",
       "\n",
       "   Cement  Flaring  Other  Per Capita  \n",
       "0     0.0      NaN    NaN         NaN  \n",
       "1     0.0      NaN    NaN         NaN  \n",
       "2     0.0      NaN    NaN         NaN  \n",
       "3     0.0      NaN    NaN         NaN  \n",
       "4     0.0      NaN    NaN         NaN  "
      ]
     },
     "execution_count": 5,
     "metadata": {},
     "output_type": "execute_result"
    }
   ],
   "source": [
    "# display first 5 rows\n",
    "df.head(5)"
   ]
  },
  {
   "cell_type": "code",
   "execution_count": 6,
   "metadata": {},
   "outputs": [],
   "source": [
    "# getting rid of the capitalization in the variables\n",
    "df = df.rename(columns = {'Country':'country',\n",
    "                    'ISO 3166-1 alpha-3':'country_code',\n",
    "                    'Year':'year',\n",
    "                    'Total':'total',\n",
    "                    'Coal':'coal',\n",
    "                    'Oil':'oil',\n",
    "                    'Gas':'gas',\n",
    "                    'Cement':'cement',\n",
    "                    'Flaring':'flaring',\n",
    "                    'Other':'other',\n",
    "                    'Per Capita':'per_capita'}) "
   ]
  },
  {
   "cell_type": "markdown",
   "metadata": {},
   "source": [
    "The UNM49 column in the dataset is provided by the United Nations for their personal analysis and is thus not needed for the dashboard. The country_code is not needed either as the country/organization it self will be used now that each is listed. The column 'other' severly lacked values so this was deleted as well"
   ]
  },
  {
   "cell_type": "code",
   "execution_count": 7,
   "metadata": {},
   "outputs": [],
   "source": [
    "# dropping unessecary columns\n",
    "df.drop(columns='UN M49', inplace=True)\n",
    "df.drop(columns='country_code', inplace=True)\n",
    "df.drop(columns='other', inplace=True)"
   ]
  },
  {
   "cell_type": "markdown",
   "metadata": {},
   "source": [
    "When looking at the dataset, it appears that many of the years prior to 1930 have no recorded or have very bare values (more than likely, many of these values were not collected during this time). Thus, my dataset will start at 1990, and the years prior will be filtered out. The year 1990 is when carbon dioxide emmission rised incredibly."
   ]
  },
  {
   "cell_type": "code",
   "execution_count": 8,
   "metadata": {},
   "outputs": [],
   "source": [
    "# filtering out rows prior to 1950\n",
    "df_updated =  df.loc[(df['year'] < 1750) | (df['year'] > 1989)]"
   ]
  },
  {
   "cell_type": "code",
   "execution_count": 9,
   "metadata": {},
   "outputs": [
    {
     "name": "stdout",
     "output_type": "stream",
     "text": [
      "['Afghanistan' 'Albania' 'Algeria' 'Andorra' 'Angola' 'Anguilla'\n",
      " 'Antarctica' 'Antigua and Barbuda' 'Argentina' 'Armenia' 'Aruba'\n",
      " 'Australia' 'Austria' 'Azerbaijan' 'Bahamas' 'Bahrain' 'Bangladesh'\n",
      " 'Barbados' 'Belarus' 'Belgium' 'Belize' 'Benin' 'Bermuda' 'Bhutan'\n",
      " 'Bonaire, Saint Eustatius and Saba' 'Bosnia and Herzegovina' 'Botswana'\n",
      " 'Brazil' 'British Virgin Islands' 'Brunei Darussalam' 'Bulgaria'\n",
      " 'Burkina Faso' 'Burundi' 'Cambodia' 'Canada' 'Cape Verde'\n",
      " 'Central African Republic' 'Chad' 'Chile' 'China' 'Christmas Island'\n",
      " 'Colombia' 'Comoros' 'Congo' 'Cook Islands' 'Costa Rica' \"Côte d'Ivoire\"\n",
      " 'Croatia' 'Cuba' 'Curaçao' 'Cyprus' 'Czechia' 'North Korea'\n",
      " 'Democratic Republic of the Congo' 'Denmark' 'Djibouti' 'Dominica'\n",
      " 'Dominican Republic' 'Ecuador' 'Egypt' 'El Salvador' 'Equatorial Guinea'\n",
      " 'Eritrea' 'Estonia' 'Ethiopia' 'Faeroe Islands'\n",
      " 'Micronesia (Federated States of)' 'Fiji' 'Finland' 'Panama Canal Zone'\n",
      " 'France' 'French Polynesia' 'Gabon' 'Gambia' 'Georgia' 'Germany' 'Ghana'\n",
      " 'Greece' 'Greenland' 'Grenada' 'Guatemala' 'Guinea' 'Guinea-Bissau'\n",
      " 'Guyana' 'Haiti' 'Honduras' 'Hong Kong' 'Hungary' 'Iceland' 'India'\n",
      " 'Indonesia' 'Iraq' 'Ireland' 'Iran' 'Israel' 'Italy' 'Jamaica' 'Japan'\n",
      " 'Jordan' 'Kazakhstan' 'Kenya' 'Kiribati' 'Kosovo' 'Kuwait'\n",
      " 'Kuwaiti Oil Fires' 'Kyrgyzstan' 'Laos' 'Latvia' 'Lebanon'\n",
      " 'Leeward Islands' 'Lesotho' 'Liberia' 'Libya' 'Liechtenstein' 'Lithuania'\n",
      " 'Luxembourg' 'Macao' 'North Macedonia' 'Madagascar' 'Malawi' 'Malaysia'\n",
      " 'Maldives' 'Mali' 'Malta' 'Marshall Islands' 'Mauritania' 'Mauritius'\n",
      " 'Mexico' 'Mongolia' 'Montenegro' 'Montserrat' 'Morocco' 'Mozambique'\n",
      " 'Myanmar' 'Namibia' 'Nauru' 'Nepal' 'Netherlands' 'New Caledonia'\n",
      " 'New Zealand' 'Nicaragua' 'Niger' 'Nigeria' 'Niue' 'Norway'\n",
      " 'State of Palestine' 'Oman' 'Pacific Islands (Palau)' 'Pakistan' 'Palau'\n",
      " 'Panama' 'Papua New Guinea' 'Paraguay' 'Peru' 'Philippines' 'Bolivia'\n",
      " 'Poland' 'Portugal' 'Qatar' 'Cameroon' 'South Korea' 'Moldova'\n",
      " 'South Sudan' 'Sudan' 'Romania' 'Russia' 'Rwanda' 'Ryukyu Islands'\n",
      " 'Saint Helena' 'Saint Lucia' 'Sint Maarten (Dutch part)' 'Samoa'\n",
      " 'Sao Tome and Principe' 'Saudi Arabia' 'Senegal' 'Serbia' 'Seychelles'\n",
      " 'Sierra Leone' 'Singapore' 'Slovakia' 'Slovenia' 'Solomon Islands'\n",
      " 'Somalia' 'South Africa' 'Spain' 'Sri Lanka' 'Saint Kitts and Nevis'\n",
      " 'St. Kitts-Nevis-Anguilla' 'Saint Pierre and Miquelon'\n",
      " 'Saint Vincent and the Grenadines' 'Suriname' 'Eswatini' 'Sweden'\n",
      " 'Switzerland' 'Syria' 'Taiwan' 'Tajikistan' 'Thailand' 'Timor-Leste'\n",
      " 'Togo' 'Tonga' 'Trinidad and Tobago' 'Tunisia' 'Türkiye' 'Turkmenistan'\n",
      " 'Turks and Caicos Islands' 'Tuvalu' 'Uganda' 'Ukraine'\n",
      " 'United Arab Emirates' 'United Kingdom' 'Tanzania' 'USA' 'Uruguay'\n",
      " 'Uzbekistan' 'Vanuatu' 'Venezuela' 'Viet Nam' 'Wallis and Futuna Islands'\n",
      " 'Yemen' 'Zambia' 'Zimbabwe' 'International Shipping'\n",
      " 'International Aviation' 'Global'] \n",
      "\n",
      "country\n",
      "Afghanistan           33\n",
      "Liechtenstein         33\n",
      "Niue                  33\n",
      "Norway                33\n",
      "State of Palestine    33\n",
      "                      ..\n",
      "Grenada               33\n",
      "Guatemala             33\n",
      "Guinea                33\n",
      "Guinea-Bissau         33\n",
      "Global                33\n",
      "Name: count, Length: 225, dtype: int64 \n",
      "\n"
     ]
    }
   ],
   "source": [
    "# looking at the variable to find unqiue or missing values; taking a look at each count as well\n",
    "var = 'country'\n",
    "print(df_updated[var].unique(),'\\n') \n",
    "print(df_updated[var].value_counts(), '\\n') "
   ]
  },
  {
   "cell_type": "code",
   "execution_count": 10,
   "metadata": {},
   "outputs": [
    {
     "name": "stdout",
     "output_type": "stream",
     "text": [
      "0\n"
     ]
    }
   ],
   "source": [
    "# count the total number of missing values for variable\n",
    "missing_for_variable = df_updated['country'].isna().sum()\n",
    "print(missing_for_variable)"
   ]
  },
  {
   "cell_type": "code",
   "execution_count": 11,
   "metadata": {},
   "outputs": [],
   "source": [
    "# Only want specific countries not world total or organization\n",
    "countries_to_drop = ['Global', 'International']\n",
    "df_updated = df_updated.drop(df_updated[df_updated['country'].isin(countries_to_drop)].index)"
   ]
  },
  {
   "cell_type": "code",
   "execution_count": 12,
   "metadata": {},
   "outputs": [
    {
     "name": "stdout",
     "output_type": "stream",
     "text": [
      "[1990 1991 1992 1993 1994 1995 1996 1997 1998 1999 2000 2001 2002 2003\n",
      " 2004 2005 2006 2007 2008 2009 2010 2011 2012 2013 2014 2015 2016 2017\n",
      " 2018 2019 2020 2021 2022] \n",
      "\n",
      "year\n",
      "1990    224\n",
      "2007    224\n",
      "2021    224\n",
      "2020    224\n",
      "2019    224\n",
      "2018    224\n",
      "2017    224\n",
      "2016    224\n",
      "2015    224\n",
      "2014    224\n",
      "2013    224\n",
      "2012    224\n",
      "2011    224\n",
      "2010    224\n",
      "2009    224\n",
      "2008    224\n",
      "2006    224\n",
      "1991    224\n",
      "2005    224\n",
      "2004    224\n",
      "2003    224\n",
      "2002    224\n",
      "2001    224\n",
      "2000    224\n",
      "1999    224\n",
      "1998    224\n",
      "1997    224\n",
      "1996    224\n",
      "1995    224\n",
      "1994    224\n",
      "1993    224\n",
      "1992    224\n",
      "2022    224\n",
      "Name: count, dtype: int64 \n",
      "\n"
     ]
    }
   ],
   "source": [
    "# looking at the variable to find unqiue or missing values; taking a look at each count as well\n",
    "var = 'year'\n",
    "print(df_updated[var].unique(),'\\n') \n",
    "print(df_updated[var].value_counts(), '\\n') "
   ]
  },
  {
   "cell_type": "code",
   "execution_count": 13,
   "metadata": {},
   "outputs": [
    {
     "name": "stdout",
     "output_type": "stream",
     "text": [
      "0\n"
     ]
    }
   ],
   "source": [
    "# count the total number of missing values for variable\n",
    "missing_for_variable = df_updated['year'].isna().sum()\n",
    "print(missing_for_variable)"
   ]
  },
  {
   "cell_type": "code",
   "execution_count": 14,
   "metadata": {},
   "outputs": [
    {
     "name": "stdout",
     "output_type": "stream",
     "text": [
      "[0.278464 0.249627 0.021984 ... 4.308864 4.548245 5.027008] \n",
      "\n",
      "coal\n",
      "0.000000     3109\n",
      "0.003664      114\n",
      "0.007328       39\n",
      "0.014656       28\n",
      "0.025648       22\n",
      "             ... \n",
      "23.588832       1\n",
      "28.062576       1\n",
      "27.626560       1\n",
      "29.447568       1\n",
      "5.027008        1\n",
      "Name: count, Length: 3196, dtype: int64 \n",
      "\n"
     ]
    }
   ],
   "source": [
    "# looking at the variable to find unqiue or missing values; taking a look at each count as well\n",
    "var = 'coal'\n",
    "print(df_updated[var].unique(),'\\n') \n",
    "print(df_updated[var].value_counts(), '\\n') "
   ]
  },
  {
   "cell_type": "code",
   "execution_count": 15,
   "metadata": {},
   "outputs": [
    {
     "name": "stdout",
     "output_type": "stream",
     "text": [
      "284\n"
     ]
    }
   ],
   "source": [
    "# count the total number of missing values for variable\n",
    "missing_for_variable = df_updated['coal'].isna().sum()\n",
    "print(missing_for_variable)"
   ]
  },
  {
   "cell_type": "markdown",
   "metadata": {},
   "source": [
    "Certain variables had NaN values. Many countries  were not established/ did not measure before certain years, so these values were excluded."
   ]
  },
  {
   "cell_type": "code",
   "execution_count": 16,
   "metadata": {},
   "outputs": [],
   "source": [
    "# count the total number of missing values for variable\n",
    "df_updated = df_updated.dropna(subset=['coal'])"
   ]
  },
  {
   "cell_type": "code",
   "execution_count": 17,
   "metadata": {},
   "outputs": [
    {
     "name": "stdout",
     "output_type": "stream",
     "text": [
      "[  2.024326   1.914301   1.482054 ... 268.338935 291.446123 424.853708] \n",
      "\n",
      "total\n",
      "0.010992      51\n",
      "0.065952      40\n",
      "0.047632      33\n",
      "0.007328      29\n",
      "0.084272      26\n",
      "              ..\n",
      "98.621793      1\n",
      "93.801558      1\n",
      "89.114955      1\n",
      "86.963204      1\n",
      "424.853708     1\n",
      "Name: count, Length: 5878, dtype: int64 \n",
      "\n"
     ]
    }
   ],
   "source": [
    "# looking at the variable to find unqiue or missing values; taking a look at each count as well\n",
    "var = 'total'\n",
    "print(df_updated[var].unique(),'\\n') \n",
    "print(df_updated[var].value_counts(), '\\n') "
   ]
  },
  {
   "cell_type": "code",
   "execution_count": 18,
   "metadata": {},
   "outputs": [
    {
     "name": "stdout",
     "output_type": "stream",
     "text": [
      "0\n"
     ]
    }
   ],
   "source": [
    "# count the total number of missing values for variable\n",
    "missing_for_variable = df_updated['total'].isna().sum()\n",
    "print(missing_for_variable)"
   ]
  },
  {
   "cell_type": "code",
   "execution_count": 19,
   "metadata": {},
   "outputs": [
    {
     "name": "stdout",
     "output_type": "stream",
     "text": [
      "[  1.271408   1.204085   1.029584 ... 268.338935 291.446123 424.853708] \n",
      "\n",
      "oil\n",
      "0.010992      51\n",
      "0.065952      40\n",
      "0.047632      33\n",
      "0.007328      29\n",
      "0.084272      28\n",
      "              ..\n",
      "2.184027       1\n",
      "2.161760       1\n",
      "2.319312       1\n",
      "2.495184       1\n",
      "424.853708     1\n",
      "Name: count, Length: 5110, dtype: int64 \n",
      "\n"
     ]
    }
   ],
   "source": [
    "# looking at the variable to find unqiue or missing values; taking a look at each count as well\n",
    "var = 'oil'\n",
    "print(df_updated[var].unique(),'\\n') \n",
    "print(df_updated[var].value_counts(), '\\n') "
   ]
  },
  {
   "cell_type": "code",
   "execution_count": 20,
   "metadata": {},
   "outputs": [
    {
     "name": "stdout",
     "output_type": "stream",
     "text": [
      "0\n"
     ]
    }
   ],
   "source": [
    "missing_for_variable = df_updated['oil'].isna().sum()\n",
    "print(missing_for_variable)"
   ]
  },
  {
   "cell_type": "code",
   "execution_count": 21,
   "metadata": {},
   "outputs": [
    {
     "name": "stdout",
     "output_type": "stream",
     "text": [
      "[0.40304  0.389125 0.362736 ... 0.744279 0.777217 0.787201] \n",
      "\n",
      "gas\n",
      "0.000000    3367\n",
      "0.007328      19\n",
      "0.003664      17\n",
      "0.036640      14\n",
      "0.043968      13\n",
      "            ... \n",
      "1.645493       1\n",
      "2.848433       1\n",
      "3.982331       1\n",
      "3.922968       1\n",
      "0.787201       1\n",
      "Name: count, Length: 3399, dtype: int64 \n",
      "\n"
     ]
    }
   ],
   "source": [
    "# looking at the variable to find unqiue or missing values; taking a look at each count as well\n",
    "var = 'gas'\n",
    "print(df_updated[var].unique(),'\\n') \n",
    "print(df_updated[var].value_counts(), '\\n') "
   ]
  },
  {
   "cell_type": "code",
   "execution_count": 22,
   "metadata": {},
   "outputs": [
    {
     "name": "stdout",
     "output_type": "stream",
     "text": [
      "0\n"
     ]
    }
   ],
   "source": [
    "# count the total number of missing values for variable\n",
    "missing_for_variable = df_updated['gas'].isna().sum()\n",
    "print(missing_for_variable)"
   ]
  },
  {
   "cell_type": "code",
   "execution_count": 23,
   "metadata": {},
   "outputs": [
    {
     "name": "stdout",
     "output_type": "stream",
     "text": [
      "[0.045766 0.046991 0.0474   ... 0.55799  0.472742 0.530865] \n",
      "\n",
      "cement\n",
      "0.000000    2181\n",
      "1.555589       7\n",
      "0.069749       6\n",
      "0.058124       6\n",
      "0.116305       6\n",
      "            ... \n",
      "1.328096       1\n",
      "1.260648       1\n",
      "0.972707       1\n",
      "0.735351       1\n",
      "0.075513       1\n",
      "Name: count, Length: 4416, dtype: int64 \n",
      "\n"
     ]
    }
   ],
   "source": [
    "# looking at the variable to find unqiue or missing values; taking a look at each count as well\n",
    "var = 'cement'\n",
    "print(df_updated[var].unique(),'\\n') \n",
    "print(df_updated[var].value_counts(), '\\n') "
   ]
  },
  {
   "cell_type": "code",
   "execution_count": 24,
   "metadata": {},
   "outputs": [
    {
     "name": "stdout",
     "output_type": "stream",
     "text": [
      "273\n"
     ]
    }
   ],
   "source": [
    "# count the total number of missing values for variable\n",
    "missing_for_variable = df_updated['cement'].isna().sum()\n",
    "print(missing_for_variable)"
   ]
  },
  {
   "cell_type": "code",
   "execution_count": 25,
   "metadata": {},
   "outputs": [],
   "source": [
    "# dropping NaN values\n",
    "df_updated = df_updated.dropna(subset=['cement'])"
   ]
  },
  {
   "cell_type": "code",
   "execution_count": 26,
   "metadata": {},
   "outputs": [
    {
     "name": "stdout",
     "output_type": "stream",
     "text": [
      "[0.025648 0.025697 0.021984 ... 1.639538 1.767968 1.367732] \n",
      "\n",
      "flaring\n",
      "0.000000     3839\n",
      "0.003664       11\n",
      "0.021984        9\n",
      "17.505000       7\n",
      "0.000005        5\n",
      "             ... \n",
      "2.965912        1\n",
      "3.003012        1\n",
      "2.928241        1\n",
      "2.953859        1\n",
      "1.367732        1\n",
      "Name: count, Length: 2859, dtype: int64 \n",
      "\n"
     ]
    }
   ],
   "source": [
    "# looking at the variable to find unqiue or missing values; taking a look at each count as well\n",
    "var = 'flaring'\n",
    "print(df_updated[var].unique(),'\\n') \n",
    "print(df_updated[var].value_counts(), '\\n') "
   ]
  },
  {
   "cell_type": "code",
   "execution_count": 27,
   "metadata": {},
   "outputs": [
    {
     "name": "stdout",
     "output_type": "stream",
     "text": [
      "0\n"
     ]
    }
   ],
   "source": [
    "# count the total number of missing values for variable\n",
    "missing_for_variable = df_updated['flaring'].isna().sum()\n",
    "print(missing_for_variable)"
   ]
  },
  {
   "cell_type": "code",
   "execution_count": 28,
   "metadata": {},
   "outputs": [
    {
     "name": "stdout",
     "output_type": "stream",
     "text": [
      "[0.189281 0.178155 0.122916 ... 0.500945 0.524931 0.542658] \n",
      "\n",
      "per_capita\n",
      "0.000000    85\n",
      "0.396537     2\n",
      "1.726789     2\n",
      "1.108959     2\n",
      "0.088856     2\n",
      "            ..\n",
      "1.368356     1\n",
      "1.628500     1\n",
      "1.548870     1\n",
      "1.265765     1\n",
      "0.542658     1\n",
      "Name: count, Length: 6746, dtype: int64 \n",
      "\n"
     ]
    }
   ],
   "source": [
    "# looking at the variable to find unqiue or missing values; taking a look at each count as well\n",
    "var = 'per_capita'\n",
    "print(df_updated[var].unique(),'\\n') \n",
    "print(df_updated[var].value_counts(), '\\n') "
   ]
  },
  {
   "cell_type": "code",
   "execution_count": 29,
   "metadata": {},
   "outputs": [
    {
     "name": "stdout",
     "output_type": "stream",
     "text": [
      "0\n"
     ]
    }
   ],
   "source": [
    "# count the total number of missing values for variable\n",
    "missing_for_variable = df_updated['per_capita'].isna().sum()\n",
    "print(missing_for_variable)"
   ]
  },
  {
   "cell_type": "code",
   "execution_count": 30,
   "metadata": {},
   "outputs": [
    {
     "name": "stdout",
     "output_type": "stream",
     "text": [
      "<class 'pandas.core.frame.DataFrame'>\n",
      "Index: 6835 entries, 240 to 61151\n",
      "Data columns (total 9 columns):\n",
      " #   Column      Non-Null Count  Dtype  \n",
      "---  ------      --------------  -----  \n",
      " 0   country     6835 non-null   object \n",
      " 1   year        6835 non-null   int64  \n",
      " 2   total       6835 non-null   float64\n",
      " 3   coal        6835 non-null   float64\n",
      " 4   oil         6835 non-null   float64\n",
      " 5   gas         6835 non-null   float64\n",
      " 6   cement      6835 non-null   float64\n",
      " 7   flaring     6835 non-null   float64\n",
      " 8   per_capita  6835 non-null   float64\n",
      "dtypes: float64(7), int64(1), object(1)\n",
      "memory usage: 534.0+ KB\n"
     ]
    },
    {
     "data": {
      "text/html": [
       "<div>\n",
       "<style scoped>\n",
       "    .dataframe tbody tr th:only-of-type {\n",
       "        vertical-align: middle;\n",
       "    }\n",
       "\n",
       "    .dataframe tbody tr th {\n",
       "        vertical-align: top;\n",
       "    }\n",
       "\n",
       "    .dataframe thead th {\n",
       "        text-align: right;\n",
       "    }\n",
       "</style>\n",
       "<table border=\"1\" class=\"dataframe\">\n",
       "  <thead>\n",
       "    <tr style=\"text-align: right;\">\n",
       "      <th></th>\n",
       "      <th>country</th>\n",
       "      <th>year</th>\n",
       "      <th>total</th>\n",
       "      <th>coal</th>\n",
       "      <th>oil</th>\n",
       "      <th>gas</th>\n",
       "      <th>cement</th>\n",
       "      <th>flaring</th>\n",
       "      <th>per_capita</th>\n",
       "    </tr>\n",
       "  </thead>\n",
       "  <tbody>\n",
       "    <tr>\n",
       "      <th>240</th>\n",
       "      <td>Afghanistan</td>\n",
       "      <td>1990</td>\n",
       "      <td>2.024326</td>\n",
       "      <td>0.278464</td>\n",
       "      <td>1.271408</td>\n",
       "      <td>0.403040</td>\n",
       "      <td>0.045766</td>\n",
       "      <td>0.025648</td>\n",
       "      <td>0.189281</td>\n",
       "    </tr>\n",
       "    <tr>\n",
       "      <th>241</th>\n",
       "      <td>Afghanistan</td>\n",
       "      <td>1991</td>\n",
       "      <td>1.914301</td>\n",
       "      <td>0.249627</td>\n",
       "      <td>1.204085</td>\n",
       "      <td>0.389125</td>\n",
       "      <td>0.045766</td>\n",
       "      <td>0.025697</td>\n",
       "      <td>0.178155</td>\n",
       "    </tr>\n",
       "    <tr>\n",
       "      <th>242</th>\n",
       "      <td>Afghanistan</td>\n",
       "      <td>1992</td>\n",
       "      <td>1.482054</td>\n",
       "      <td>0.021984</td>\n",
       "      <td>1.029584</td>\n",
       "      <td>0.362736</td>\n",
       "      <td>0.045766</td>\n",
       "      <td>0.021984</td>\n",
       "      <td>0.122916</td>\n",
       "    </tr>\n",
       "    <tr>\n",
       "      <th>243</th>\n",
       "      <td>Afghanistan</td>\n",
       "      <td>1993</td>\n",
       "      <td>1.486943</td>\n",
       "      <td>0.018320</td>\n",
       "      <td>1.047904</td>\n",
       "      <td>0.351744</td>\n",
       "      <td>0.046991</td>\n",
       "      <td>0.021984</td>\n",
       "      <td>0.106182</td>\n",
       "    </tr>\n",
       "    <tr>\n",
       "      <th>244</th>\n",
       "      <td>Afghanistan</td>\n",
       "      <td>1994</td>\n",
       "      <td>1.453829</td>\n",
       "      <td>0.014693</td>\n",
       "      <td>1.032171</td>\n",
       "      <td>0.337935</td>\n",
       "      <td>0.046991</td>\n",
       "      <td>0.022039</td>\n",
       "      <td>0.094065</td>\n",
       "    </tr>\n",
       "  </tbody>\n",
       "</table>\n",
       "</div>"
      ],
      "text/plain": [
       "         country  year     total      coal       oil       gas    cement  \\\n",
       "240  Afghanistan  1990  2.024326  0.278464  1.271408  0.403040  0.045766   \n",
       "241  Afghanistan  1991  1.914301  0.249627  1.204085  0.389125  0.045766   \n",
       "242  Afghanistan  1992  1.482054  0.021984  1.029584  0.362736  0.045766   \n",
       "243  Afghanistan  1993  1.486943  0.018320  1.047904  0.351744  0.046991   \n",
       "244  Afghanistan  1994  1.453829  0.014693  1.032171  0.337935  0.046991   \n",
       "\n",
       "      flaring  per_capita  \n",
       "240  0.025648    0.189281  \n",
       "241  0.025697    0.178155  \n",
       "242  0.021984    0.122916  \n",
       "243  0.021984    0.106182  \n",
       "244  0.022039    0.094065  "
      ]
     },
     "execution_count": 30,
     "metadata": {},
     "output_type": "execute_result"
    }
   ],
   "source": [
    "# gettin info and looking at dataset after cleaning\n",
    "df_updated.info()\n",
    "df_updated.head()"
   ]
  },
  {
   "cell_type": "code",
   "execution_count": 31,
   "metadata": {},
   "outputs": [
    {
     "name": "stdout",
     "output_type": "stream",
     "text": [
      "0\n"
     ]
    }
   ],
   "source": [
    "# checking missings once more\n",
    "total_missing = df_updated.isna().sum().sum()\n",
    "print(total_missing)"
   ]
  },
  {
   "cell_type": "markdown",
   "metadata": {},
   "source": [
    "### EDA"
   ]
  },
  {
   "cell_type": "markdown",
   "metadata": {},
   "source": [
    "Prior to cleaning, my dataset contained 61425 entries with a total of 12 columns from the years 1750 - 2022. After cleaning, there were 6835 entries and 9 columns in total from the years 1990 - 2022. For categorical variables there are two: country, and the year that groups the carbon dioxde emissions for the country. The discrete variables are the carbon dioxide emissions measured in metric tons for each of the fossil fuel types: coal, oil, and gas, along with flaring operations, cement production and other potential pollutants. The dataset also contains the total from the prior continous variables listed and an additional per_capita continous variable for the country as well. After cleaning there were no missing variables, however, prior to this there were 338305. 'coal' had 284, and 'cement' had 273. The statistics for each variable will be listed below. At first, the data appeared to be very right-skewed, but a log transformation was added for better scaling. Although there is still some skewedness, I do think it is important to keep the outliers as it is important for analysis as some countries produce significant amounts of carbon dioxide for underlying reasons. Their emission data will stand out the most."
   ]
  },
  {
   "cell_type": "code",
   "execution_count": 32,
   "metadata": {},
   "outputs": [
    {
     "name": "stdout",
     "output_type": "stream",
     "text": [
      "count    6835.000000\n",
      "mean       52.070250\n",
      "std       194.824504\n",
      "min         0.000000\n",
      "25%         0.787760\n",
      "50%         4.536032\n",
      "75%        26.447034\n",
      "max      2642.691825\n",
      "Name: oil, dtype: float64 \n",
      "\n"
     ]
    }
   ],
   "source": [
    "# looking summary statistics for the variable\n",
    "var = 'oil'\n",
    "print(df_updated[var].describe(),'\\n')"
   ]
  },
  {
   "cell_type": "code",
   "execution_count": 33,
   "metadata": {},
   "outputs": [
    {
     "data": {
      "text/plain": [
       "<Axes: >"
      ]
     },
     "execution_count": 33,
     "metadata": {},
     "output_type": "execute_result"
    },
    {
     "data": {
      "image/png": "[encoded data removed]",
      "text/plain": [
       "<Figure size 640x480 with 1 Axes>"
      ]
     },
     "metadata": {},
     "output_type": "display_data"
    }
   ],
   "source": [
    "# variable looked heavily skewed, so an arcsinh tranformation was added for better scaling\n",
    "# this is presented via histogram to look at distrobutions and locate the non-infinte values\n",
    "df_updated['oil_arc'] = np.arcsinh(df_updated['oil'])\n",
    "df_updated.loc[df_updated['oil_arc']>0,'oil_arc'].hist(bins=20,grid=False)"
   ]
  },
  {
   "cell_type": "code",
   "execution_count": 34,
   "metadata": {},
   "outputs": [
    {
     "name": "stdout",
     "output_type": "stream",
     "text": [
      "count    6835.000000\n",
      "mean       57.083668\n",
      "std       405.040692\n",
      "min         0.000000\n",
      "25%         0.000000\n",
      "50%         0.044060\n",
      "75%         6.722786\n",
      "max      8250.736658\n",
      "Name: coal, dtype: float64 \n",
      "\n"
     ]
    }
   ],
   "source": [
    "# looking summary statistics for the variable\n",
    "var = 'coal'\n",
    "print( df_updated[var].describe(),'\\n')"
   ]
  },
  {
   "cell_type": "code",
   "execution_count": 35,
   "metadata": {},
   "outputs": [
    {
     "data": {
      "text/plain": [
       "<Axes: >"
      ]
     },
     "execution_count": 35,
     "metadata": {},
     "output_type": "execute_result"
    },
    {
     "data": {
      "image/png": "[encoded data removed]",
      "text/plain": [
       "<Figure size 640x480 with 1 Axes>"
      ]
     },
     "metadata": {},
     "output_type": "display_data"
    }
   ],
   "source": [
    "# variable looked heavily skewed, so arcsinh tranformation was added for better scaling\n",
    "# this is presented via histogram to look at distrobutions and locate the non-infinte values\n",
    "df_updated['coal_arc'] = np.arcsinh(df_updated['coal'])\n",
    "df_updated.loc[df_updated['coal_arc']>0,'coal_arc'].hist(bins=20,grid=False)"
   ]
  },
  {
   "cell_type": "code",
   "execution_count": 36,
   "metadata": {},
   "outputs": [
    {
     "name": "stdout",
     "output_type": "stream",
     "text": [
      "count    6835.000000\n",
      "mean       27.280623\n",
      "std       113.138594\n",
      "min         0.000000\n",
      "25%         0.000000\n",
      "50%         0.047812\n",
      "75%        11.474505\n",
      "max      1742.143475\n",
      "Name: gas, dtype: float64 \n",
      "\n"
     ]
    }
   ],
   "source": [
    "# looking summary statistics for the variable\n",
    "var = 'gas'\n",
    "print(df_updated[var].describe(),'\\n')"
   ]
  },
  {
   "cell_type": "code",
   "execution_count": 37,
   "metadata": {},
   "outputs": [
    {
     "data": {
      "text/plain": [
       "<Axes: >"
      ]
     },
     "execution_count": 37,
     "metadata": {},
     "output_type": "execute_result"
    },
    {
     "data": {
      "image/png": "[encoded data removed]",
      "text/plain": [
       "<Figure size 640x480 with 1 Axes>"
      ]
     },
     "metadata": {},
     "output_type": "display_data"
    }
   ],
   "source": [
    "# variable looked heavily skewed, so an arcsinh tranformation was added for better scaling\n",
    "# this is presented via histogram to look at distrobutions and locate the non-infinte values\n",
    "df_updated['gas_arc'] = np.arcsinh(df_updated['gas'])\n",
    "df_updated.loc[df_updated['gas_arc']>0,'gas_arc'].hist(bins=20,grid=False)"
   ]
  },
  {
   "cell_type": "code",
   "execution_count": 38,
   "metadata": {},
   "outputs": [
    {
     "name": "stdout",
     "output_type": "stream",
     "text": [
      "Before coercion: \n",
      " count    6835.000000\n",
      "mean        5.104119\n",
      "std        38.211750\n",
      "min         0.000000\n",
      "25%         0.000000\n",
      "50%         0.319207\n",
      "75%         1.741059\n",
      "max       858.232613\n",
      "Name: cement, dtype: float64 \n",
      "\n"
     ]
    }
   ],
   "source": [
    "# looking summary statistics for the variable\n",
    "var = 'cement'\n",
    "print('Before coercion: \\n', df_updated[var].describe(),'\\n')"
   ]
  },
  {
   "cell_type": "code",
   "execution_count": 39,
   "metadata": {},
   "outputs": [
    {
     "data": {
      "text/plain": [
       "<Axes: >"
      ]
     },
     "execution_count": 39,
     "metadata": {},
     "output_type": "execute_result"
    },
    {
     "data": {
      "image/png": "[encoded data removed]",
      "text/plain": [
       "<Figure size 640x480 with 1 Axes>"
      ]
     },
     "metadata": {},
     "output_type": "display_data"
    }
   ],
   "source": [
    "# variable looked heavily skewed, so an arcsinh tranformation was added for better scaling\n",
    "# this is presented via histogram to look at distrobutions and locate the non-infinte values\n",
    "df_updated['cement_arc'] = np.arcsinh(df_updated['cement'])\n",
    "df_updated.loc[df_updated['cement_arc']>0,'cement_arc'].hist(bins=20,grid=False)"
   ]
  },
  {
   "cell_type": "code",
   "execution_count": 40,
   "metadata": {},
   "outputs": [
    {
     "name": "stdout",
     "output_type": "stream",
     "text": [
      "Before coercion: \n",
      " count    6835.000000\n",
      "mean        1.676202\n",
      "std         5.857277\n",
      "min         0.000000\n",
      "25%         0.000000\n",
      "50%         0.000000\n",
      "75%         0.491704\n",
      "max        88.436967\n",
      "Name: flaring, dtype: float64 \n",
      "\n"
     ]
    }
   ],
   "source": [
    "# looking summary statistics for the variable\n",
    "var = 'flaring'\n",
    "print('Before coercion: \\n', df_updated[var].describe(),'\\n')"
   ]
  },
  {
   "cell_type": "code",
   "execution_count": 41,
   "metadata": {},
   "outputs": [
    {
     "data": {
      "text/plain": [
       "<Axes: >"
      ]
     },
     "execution_count": 41,
     "metadata": {},
     "output_type": "execute_result"
    },
    {
     "data": {
      "image/png": "[encoded data removed]",
      "text/plain": [
       "<Figure size 640x480 with 1 Axes>"
      ]
     },
     "metadata": {},
     "output_type": "display_data"
    }
   ],
   "source": [
    "# variable looked heavily skewed, so an arcsinh tranformation was added for better scaling\n",
    "# this is presented via histogram to look at distrobutions and locate the non-infinte values\n",
    "df_updated['flaring_arc'] = np.arcsinh(df_updated['flaring'])\n",
    "df_updated.loc[df_updated['flaring_arc']>0,'flaring_arc'].hist(bins=20,grid=False)"
   ]
  },
  {
   "cell_type": "code",
   "execution_count": 42,
   "metadata": {},
   "outputs": [
    {
     "name": "stdout",
     "output_type": "stream",
     "text": [
      "Before coercion: \n",
      " count    6835.000000\n",
      "mean        4.943785\n",
      "std         6.612741\n",
      "min         0.000000\n",
      "25%         0.673975\n",
      "50%         2.698371\n",
      "75%         6.892578\n",
      "max        76.612985\n",
      "Name: per_capita, dtype: float64 \n",
      "\n"
     ]
    }
   ],
   "source": [
    "# looking summary statistics for the variable\n",
    "var = 'per_capita'\n",
    "print('Before coercion: \\n', df_updated[var].describe(),'\\n')"
   ]
  },
  {
   "cell_type": "code",
   "execution_count": 43,
   "metadata": {},
   "outputs": [
    {
     "data": {
      "text/plain": [
       "<Axes: >"
      ]
     },
     "execution_count": 43,
     "metadata": {},
     "output_type": "execute_result"
    },
    {
     "data": {
      "image/png": "[encoded data removed]",
      "text/plain": [
       "<Figure size 640x480 with 1 Axes>"
      ]
     },
     "metadata": {},
     "output_type": "display_data"
    }
   ],
   "source": [
    "# variable looked heavily skewed, so an arcsinh tranformation was added for better scaling\n",
    "# this is presented via histogram to look at distrobutions and locate the non-infinte values\n",
    "df_updated['per_capita_arc'] = np.arcsinh(df_updated['per_capita'])\n",
    "df_updated.loc[df_updated['per_capita_arc']>0,'per_capita_arc'].hist(bins=20,grid=False)"
   ]
  },
  {
   "cell_type": "markdown",
   "metadata": {},
   "source": [
    "### Data Dictionary\n",
    "1. 'country': The name of the country (String) \n",
    "2. 'year' : The year of the data (Integer)\n",
    "3. 'total' : The total amount of CO2 emissions for the country in the given year. (Float)\n",
    "4. 'coal' : The amount of CO2 emissions from coal for the country in the given year. (Float)\n",
    "5. 'oil' : The amount of CO2 emissions from oil for the country in the given year. (Float)\n",
    "6. 'gas' : The amount of CO2 emissions from gas for the country in the given year. (Float)\n",
    "7. 'cement' : The amount of CO2 emissions from cement production for the country in the given year. (Float)\n",
    "8. 'flaring' : Flaring: The amount of CO2 emissions from flaring operations for the country in the given year. (Float)\n",
    "9. 'per_capita' : The amount of CO2 emissions per capita for the country in the given year. (Float)\n",
    "\n",
    "*I have decided to keep both original and transformed continuous variables above for my interpretability and certain visualizations on my dashboard.*"
   ]
  },
  {
   "cell_type": "markdown",
   "metadata": {},
   "source": [
    "### UI Components and Visualization Ideas\n",
    "1. UI Components\n",
    "    - Dropdown Menus for countries and fossil fuel type\n",
    "    - Slider for years\n",
    "    - Text Input for country/year\n",
    "    - Interactive Tables for emmission type\n",
    "2. Data Visualizations\n",
    "    - Pie charts for selected country emissions\n",
    "    - Heat maps by country\n",
    "    - Stacked bar chart for each fossil fuel type\n",
    "    "
   ]
  },
  {
   "cell_type": "code",
   "execution_count": 44,
   "metadata": {},
   "outputs": [],
   "source": [
    "df_updated.to_csv('data.csv', index=False) "
   ]
  }
 ],
 "metadata": {
  "kernelspec": {
   "display_name": "ds4003",
   "language": "python",
   "name": "python3"
  },
  "language_info": {
   "codemirror_mode": {
    "name": "ipython",
    "version": 3
   },
   "file_extension": ".py",
   "mimetype": "text/x-python",
   "name": "python",
   "nbconvert_exporter": "python",
   "pygments_lexer": "ipython3",
   "version": "3.8.18"
  }
 },
 "nbformat": 4,
 "nbformat_minor": 2
}
